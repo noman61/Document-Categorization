{
 "cells": [
  {
   "cell_type": "code",
   "execution_count": 8,
   "metadata": {},
   "outputs": [
    {
     "data": {
      "text/html": [
       "<div>\n",
       "<style>\n",
       "    .dataframe thead tr:only-child th {\n",
       "        text-align: right;\n",
       "    }\n",
       "\n",
       "    .dataframe thead th {\n",
       "        text-align: left;\n",
       "    }\n",
       "\n",
       "    .dataframe tbody tr th {\n",
       "        vertical-align: top;\n",
       "    }\n",
       "</style>\n",
       "<table border=\"1\" class=\"dataframe\">\n",
       "  <thead>\n",
       "    <tr style=\"text-align: right;\">\n",
       "      <th></th>\n",
       "      <th>category</th>\n",
       "      <th>news</th>\n",
       "    </tr>\n",
       "  </thead>\n",
       "  <tbody>\n",
       "    <tr>\n",
       "      <th>0</th>\n",
       "      <td>accident</td>\n",
       "      <td>['নওগাঁর মহাদেবপুর উপজেলার নওগাঁ-রাজশাহী মহাসড...</td>\n",
       "    </tr>\n",
       "    <tr>\n",
       "      <th>1</th>\n",
       "      <td>accident</td>\n",
       "      <td>['মংলা বন্দরের শিল্পাঞ্চল এলাকায় নির্মাণাধীন ...</td>\n",
       "    </tr>\n",
       "    <tr>\n",
       "      <th>2</th>\n",
       "      <td>accident</td>\n",
       "      <td>['মংলা বন্দরের শিল্পাঞ্চল এলাকায় নির্মাণাধীন ...</td>\n",
       "    </tr>\n",
       "    <tr>\n",
       "      <th>3</th>\n",
       "      <td>accident</td>\n",
       "      <td>['ঢাকা-ময়মনসিংহ রেললাইনের গাজীপুরের শ্রীপুর উ...</td>\n",
       "    </tr>\n",
       "    <tr>\n",
       "      <th>4</th>\n",
       "      <td>accident</td>\n",
       "      <td>['রাজধানীর পুরানা পল্টন থানা এলাকায় গতকাল বৃহ...</td>\n",
       "    </tr>\n",
       "  </tbody>\n",
       "</table>\n",
       "</div>"
      ],
      "text/plain": [
       "   category                                               news\n",
       "0  accident  ['নওগাঁর মহাদেবপুর উপজেলার নওগাঁ-রাজশাহী মহাসড...\n",
       "1  accident  ['মংলা বন্দরের শিল্পাঞ্চল এলাকায় নির্মাণাধীন ...\n",
       "2  accident  ['মংলা বন্দরের শিল্পাঞ্চল এলাকায় নির্মাণাধীন ...\n",
       "3  accident  ['ঢাকা-ময়মনসিংহ রেললাইনের গাজীপুরের শ্রীপুর উ...\n",
       "4  accident  ['রাজধানীর পুরানা পল্টন থানা এলাকায় গতকাল বৃহ..."
      ]
     },
     "execution_count": 8,
     "metadata": {},
     "output_type": "execute_result"
    }
   ],
   "source": [
    "import pandas as pd\n",
    "df = pd.read_csv('Document_Categorization.csv')\n",
    "df.head()"
   ]
  },
  {
   "cell_type": "code",
   "execution_count": 9,
   "metadata": {},
   "outputs": [
    {
     "data": {
      "text/html": [
       "<div>\n",
       "<style>\n",
       "    .dataframe thead tr:only-child th {\n",
       "        text-align: right;\n",
       "    }\n",
       "\n",
       "    .dataframe thead th {\n",
       "        text-align: left;\n",
       "    }\n",
       "\n",
       "    .dataframe tbody tr th {\n",
       "        vertical-align: top;\n",
       "    }\n",
       "</style>\n",
       "<table border=\"1\" class=\"dataframe\">\n",
       "  <thead>\n",
       "    <tr style=\"text-align: right;\">\n",
       "      <th></th>\n",
       "      <th>category</th>\n",
       "      <th>news</th>\n",
       "      <th>category_id</th>\n",
       "    </tr>\n",
       "  </thead>\n",
       "  <tbody>\n",
       "    <tr>\n",
       "      <th>0</th>\n",
       "      <td>accident</td>\n",
       "      <td>['নওগাঁর মহাদেবপুর উপজেলার নওগাঁ-রাজশাহী মহাসড...</td>\n",
       "      <td>0</td>\n",
       "    </tr>\n",
       "    <tr>\n",
       "      <th>1</th>\n",
       "      <td>accident</td>\n",
       "      <td>['মংলা বন্দরের শিল্পাঞ্চল এলাকায় নির্মাণাধীন ...</td>\n",
       "      <td>0</td>\n",
       "    </tr>\n",
       "    <tr>\n",
       "      <th>2</th>\n",
       "      <td>accident</td>\n",
       "      <td>['মংলা বন্দরের শিল্পাঞ্চল এলাকায় নির্মাণাধীন ...</td>\n",
       "      <td>0</td>\n",
       "    </tr>\n",
       "    <tr>\n",
       "      <th>3</th>\n",
       "      <td>accident</td>\n",
       "      <td>['ঢাকা-ময়মনসিংহ রেললাইনের গাজীপুরের শ্রীপুর উ...</td>\n",
       "      <td>0</td>\n",
       "    </tr>\n",
       "    <tr>\n",
       "      <th>4</th>\n",
       "      <td>accident</td>\n",
       "      <td>['রাজধানীর পুরানা পল্টন থানা এলাকায় গতকাল বৃহ...</td>\n",
       "      <td>0</td>\n",
       "    </tr>\n",
       "  </tbody>\n",
       "</table>\n",
       "</div>"
      ],
      "text/plain": [
       "   category                                               news  category_id\n",
       "0  accident  ['নওগাঁর মহাদেবপুর উপজেলার নওগাঁ-রাজশাহী মহাসড...            0\n",
       "1  accident  ['মংলা বন্দরের শিল্পাঞ্চল এলাকায় নির্মাণাধীন ...            0\n",
       "2  accident  ['মংলা বন্দরের শিল্পাঞ্চল এলাকায় নির্মাণাধীন ...            0\n",
       "3  accident  ['ঢাকা-ময়মনসিংহ রেললাইনের গাজীপুরের শ্রীপুর উ...            0\n",
       "4  accident  ['রাজধানীর পুরানা পল্টন থানা এলাকায় গতকাল বৃহ...            0"
      ]
     },
     "execution_count": 9,
     "metadata": {},
     "output_type": "execute_result"
    }
   ],
   "source": [
    "from io import StringIO\n",
    "col = ['category', 'news']\n",
    "df = df[col]\n",
    "df = df[pd.notnull(df['news'])]\n",
    "df.columns = ['category', 'news']\n",
    "df['category_id'] = df['category'].factorize()[0]\n",
    "category_id_df = df[['category', 'category_id']].drop_duplicates().sort_values('category_id')\n",
    "category_to_id = dict(category_id_df.values)\n",
    "id_to_category = dict(category_id_df[['category_id', 'category']].values)\n",
    "df.head()"
   ]
  },
  {
   "cell_type": "code",
   "execution_count": 10,
   "metadata": {},
   "outputs": [
    {
     "data": {
      "image/png": "[encoded data removed]",
      "text/plain": [
       "<matplotlib.figure.Figure at 0xb0e593e780>"
      ]
     },
     "metadata": {},
     "output_type": "display_data"
    }
   ],
   "source": [
    "import matplotlib.pyplot as plt\n",
    "fig = plt.figure(figsize=(8,6))\n",
    "df.groupby('category').news.count().plot.bar(ylim=0)\n",
    "plt.show()"
   ]
  },
  {
   "cell_type": "code",
   "execution_count": 11,
   "metadata": {
    "scrolled": true
   },
   "outputs": [
    {
     "name": "stdout",
     "output_type": "stream",
     "text": [
      "# 'accident':\n",
      "  . Most correlated unigrams:\n",
      ". থল\n",
      ". আহত\n",
      "  . Most correlated bigrams:\n",
      ". ঘটন ঘট\n",
      ". ঘটন থল\n",
      "# 'art':\n",
      "  . Most correlated unigrams:\n",
      ". ছদ\n",
      ". উপন\n",
      "  . Most correlated bigrams:\n",
      ". রক শন\n",
      ". রচ ছদ\n",
      "# 'crime':\n",
      "  . Most correlated unigrams:\n",
      ". উপজ\n",
      ". ওস\n",
      "  . Most correlated bigrams:\n",
      ". উদ কর\n",
      ". আটক কর\n",
      "# 'economics':\n",
      "  . Most correlated unigrams:\n",
      ". ঋণ\n",
      ". ঞপ\n",
      "  . Most correlated bigrams:\n",
      ". যবস পন\n",
      ". পন পর\n",
      "# 'education':\n",
      "  . Most correlated unigrams:\n",
      ". iii\n",
      ". ii\n",
      "  . Most correlated bigrams:\n",
      ". বহ চন\n",
      ". রশ তর\n",
      "# 'entertainment':\n",
      "  . Most correlated unigrams:\n",
      ". ছব\n",
      ". চলচ\n",
      "  . Most correlated bigrams:\n",
      ". পর শন\n",
      ". অভ নয\n",
      "# 'environment':\n",
      "  . Most correlated unigrams:\n",
      ". পম\n",
      ". আবহ\n",
      "  . Most correlated bigrams:\n",
      ". দপ তর\n",
      ". অধ দপ\n",
      "# 'international':\n",
      "  . Most correlated unigrams:\n",
      ". এএফপ\n",
      ". আইএস\n",
      "  . Most correlated bigrams:\n",
      ". খবর এএফপ\n",
      ". খবর হয\n",
      "# 'opinion':\n",
      "  . Most correlated unigrams:\n",
      ". জনগণ\n",
      ". নয়\n",
      "  . Most correlated bigrams:\n",
      ". বব লয়\n",
      ". রয় জন\n",
      "# 'politics':\n",
      "  . Most correlated unigrams:\n",
      ". আওয\n",
      ". এনপ\n",
      "  . Most correlated bigrams:\n",
      ". এনপ রপ\n",
      ". রপ রসন\n",
      "# 'science_tech':\n",
      "  . Most correlated unigrams:\n",
      ". সফটওয\n",
      ". টফ\n",
      "  . Most correlated bigrams:\n",
      ". কম উট\n",
      ". যবহ রক\n",
      "# 'sports':\n",
      "  . Most correlated unigrams:\n",
      ". টসম\n",
      ". উইক\n",
      "  . Most correlated bigrams:\n",
      ". দক আফ\n",
      ". ওয নড\n"
     ]
    }
   ],
   "source": [
    "from sklearn.feature_extraction.text import TfidfVectorizer\n",
    "tfidf = TfidfVectorizer(sublinear_tf=True, min_df=5, norm='l2', encoding='latin-1', ngram_range=(1, 2), stop_words='english')\n",
    "features = tfidf.fit_transform(df.news).toarray()\n",
    "labels = df.category_id\n",
    "features.shape\n",
    "from sklearn.feature_selection import chi2\n",
    "import numpy as np\n",
    "N = 2\n",
    "for Product, category_id in sorted(category_to_id.items()):\n",
    "  features_chi2 = chi2(features, labels == category_id)\n",
    "  indices = np.argsort(features_chi2[0])\n",
    "  feature_names = np.array(tfidf.get_feature_names())[indices]\n",
    "  unigrams = [v for v in feature_names if len(v.split(' ')) == 1]\n",
    "  bigrams = [v for v in feature_names if len(v.split(' ')) == 2]\n",
    "  print(\"# '{}':\".format(Product))\n",
    "  print(\"  . Most correlated unigrams:\\n. {}\".format('\\n. '.join(unigrams[-N:])))\n",
    "  print(\"  . Most correlated bigrams:\\n. {}\".format('\\n. '.join(bigrams[-N:])))\n",
    "    \n"
   ]
  },
  {
   "cell_type": "code",
   "execution_count": 12,
   "metadata": {
    "collapsed": true
   },
   "outputs": [],
   "source": [
    "from sklearn.model_selection import train_test_split\n",
    "from sklearn.feature_extraction.text import CountVectorizer\n",
    "from sklearn.feature_extraction.text import TfidfTransformer\n",
    "from sklearn.naive_bayes import MultinomialNB\n",
    "X_train, X_test, y_train, y_test = train_test_split(df['news'], df['category'], random_state = 0)\n",
    "count_vect = CountVectorizer()\n",
    "X_train_counts = count_vect.fit_transform(X_train)\n",
    "tfidf_transformer = TfidfTransformer()\n",
    "X_train_tfidf = tfidf_transformer.fit_transform(X_train_counts)\n",
    "clf = MultinomialNB().fit(X_train_tfidf, y_train)"
   ]
  },
  {
   "cell_type": "code",
   "execution_count": 13,
   "metadata": {},
   "outputs": [
    {
     "data": {
      "image/png": "[encoded data removed]",
      "text/plain": [
       "<matplotlib.figure.Figure at 0xb0d2956400>"
      ]
     },
     "metadata": {},
     "output_type": "display_data"
    }
   ],
   "source": [
    "from sklearn.linear_model import LogisticRegression\n",
    "from sklearn.ensemble import RandomForestClassifier\n",
    "from sklearn.svm import LinearSVC\n",
    "from sklearn.model_selection import cross_val_score\n",
    "models = [\n",
    "    RandomForestClassifier(n_estimators=200, max_depth=3, random_state=0),\n",
    "    LinearSVC(),\n",
    "    MultinomialNB(),\n",
    "    LogisticRegression(random_state=0),\n",
    "]\n",
    "CV = 4\n",
    "cv_df = pd.DataFrame(index=range(CV * len(models)))\n",
    "entries = []\n",
    "for model in models:\n",
    "  model_name = model.__class__.__name__\n",
    "  accuracies = cross_val_score(model, features, labels, scoring='accuracy', cv=CV)\n",
    "  for fold_idx, accuracy in enumerate(accuracies):\n",
    "    entries.append((model_name, fold_idx, accuracy))\n",
    "cv_df = pd.DataFrame(entries, columns=['model_name', 'fold_idx', 'accuracy'])\n",
    "import seaborn as sns\n",
    "sns.boxplot(x='model_name', y='accuracy', data=cv_df)\n",
    "sns.stripplot(x='model_name', y='accuracy', data=cv_df, \n",
    "              size=8, jitter=True, edgecolor=\"gray\", linewidth=2)\n",
    "plt.show()"
   ]
  },
  {
   "cell_type": "code",
   "execution_count": 15,
   "metadata": {},
   "outputs": [
    {
     "data": {
      "text/plain": [
       "model_name\n",
       "LinearSVC                 0.906292\n",
       "LogisticRegression        0.872543\n",
       "MultinomialNB             0.831269\n",
       "RandomForestClassifier    0.690454\n",
       "Name: accuracy, dtype: float64"
      ]
     },
     "execution_count": 15,
     "metadata": {},
     "output_type": "execute_result"
    }
   ],
   "source": [
    "cv_df.groupby('model_name').accuracy.mean()\n"
   ]
  },
  {
   "cell_type": "code",
   "execution_count": null,
   "metadata": {
    "collapsed": true
   },
   "outputs": [],
   "source": []
  }
 ],
 "metadata": {
  "kernelspec": {
   "display_name": "Python 3",
   "language": "python",
   "name": "python3"
  },
  "language_info": {
   "codemirror_mode": {
    "name": "ipython",
    "version": 3
   },
   "file_extension": ".py",
   "mimetype": "text/x-python",
   "name": "python",
   "nbconvert_exporter": "python",
   "pygments_lexer": "ipython3",
   "version": "3.6.3"
  }
 },
 "nbformat": 4,
 "nbformat_minor": 2
}
